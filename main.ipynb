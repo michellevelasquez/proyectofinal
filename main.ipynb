{
 "cells": [
  {
   "cell_type": "code",
   "execution_count": 63,
   "metadata": {},
   "outputs": [],
   "source": [
    "import cv2\n",
    "from gui_buttons import Buttons"
   ]
  },
  {
   "attachments": {},
   "cell_type": "markdown",
   "metadata": {},
   "source": [
    "### Botones"
   ]
  },
  {
   "cell_type": "code",
   "execution_count": 64,
   "metadata": {},
   "outputs": [],
   "source": [
    "button = Buttons()\n",
    "button.add_button(\"person\", 20, 20)\n",
    "button.add_button(\"cell phone\", 20, 100)\n",
    "button.add_button(\"keyboard\", 20, 180)\n",
    "button.add_button(\"remote\", 20, 260)\n",
    "button.add_button(\"scissors\", 20, 340)"
   ]
  },
  {
   "cell_type": "code",
   "execution_count": 65,
   "metadata": {},
   "outputs": [],
   "source": [
    "colors = button.colors"
   ]
  },
  {
   "attachments": {},
   "cell_type": "markdown",
   "metadata": {},
   "source": [
    "### OpenCV DNN"
   ]
  },
  {
   "cell_type": "code",
   "execution_count": 66,
   "metadata": {},
   "outputs": [],
   "source": [
    "net = cv2.dnn.readNet(\"dnn_model/yolov4-tiny.weights\", \"dnn_model/yolov4-tiny.cfg\")\n",
    "model = cv2.dnn_DetectionModel(net)\n",
    "model.setInputParams(size=(320, 320), scale=1/255)"
   ]
  },
  {
   "attachments": {},
   "cell_type": "markdown",
   "metadata": {},
   "source": [
    "### Listas de clase"
   ]
  },
  {
   "cell_type": "code",
   "execution_count": 67,
   "metadata": {},
   "outputs": [
    {
     "name": "stdout",
     "output_type": "stream",
     "text": [
      "Objects list\n",
      "['person', 'bicycle', 'car', 'motorbike', 'aeroplane', 'bus', 'train', 'truck', 'boat', 'traffic light', 'fire hydrant', 'stop sign', 'parking meter', 'bench', 'bird', 'cat', 'dog', 'horse', 'sheep', 'cow', 'elephant', 'bear', 'zebra', 'giraffe', 'backpack', 'umbrella', 'handbag', 'tie', 'suitcase', 'frisbee', 'skis', 'snowboard', 'sports ball', 'kite', 'baseball bat', 'baseball glove', 'skateboard', 'surfboard', 'tennis racket', 'bottle', 'wine glass', 'cup', 'fork', 'knife', 'spoon', 'bowl', 'banana', 'apple', 'sandwich', 'orange', 'broccoli', 'carrot', 'hot dog', 'pizza', 'donut', 'cake', 'chair', 'sofa', 'pottedplant', 'bed', 'diningtable', 'toilet', 'tvmonitor', 'laptop', 'mouse', 'remote', 'keyboard', 'cell phone', 'microwave', 'oven', 'toaster', 'sink', 'refrigerator', 'book', 'clock', 'vase', 'scissors', 'teddy bear', 'hair drier', 'toothbrush']\n"
     ]
    }
   ],
   "source": [
    "classes = []\n",
    "with open(\"dnn_model/classes.txt\", \"r\") as file_object:\n",
    "    for class_name in file_object.readlines():\n",
    "        class_name = class_name.strip()\n",
    "        classes.append(class_name)\n",
    "\n",
    "print(\"Objects list\")\n",
    "print(classes)"
   ]
  },
  {
   "attachments": {},
   "cell_type": "markdown",
   "metadata": {},
   "source": [
    "### Iniciar camara"
   ]
  },
  {
   "cell_type": "code",
   "execution_count": 68,
   "metadata": {},
   "outputs": [
    {
     "data": {
      "text/plain": [
       "False"
      ]
     },
     "execution_count": 68,
     "metadata": {},
     "output_type": "execute_result"
    }
   ],
   "source": [
    "cap = cv2.VideoCapture(4)\n",
    "cap.set(cv2.CAP_PROP_FRAME_WIDTH, 1280)\n",
    "cap.set(cv2.CAP_PROP_FRAME_HEIGHT, 720)\n",
    "# FULL HD 1920 x 1080"
   ]
  },
  {
   "cell_type": "code",
   "execution_count": 69,
   "metadata": {},
   "outputs": [],
   "source": [
    "def click_button(event, x, y, flags, params):\n",
    "    global button_person\n",
    "    if event == cv2.EVENT_LBUTTONDOWN:\n",
    "        button.button_click(x, y)"
   ]
  },
  {
   "attachments": {},
   "cell_type": "markdown",
   "metadata": {},
   "source": [
    "### Crear ventana"
   ]
  },
  {
   "cell_type": "code",
   "execution_count": 70,
   "metadata": {},
   "outputs": [],
   "source": [
    "cv2.namedWindow(\"Frame\")\n",
    "cv2.setMouseCallback(\"Frame\", click_button)"
   ]
  },
  {
   "cell_type": "code",
   "execution_count": 71,
   "metadata": {},
   "outputs": [
    {
     "name": "stdout",
     "output_type": "stream",
     "text": [
      "Active buttons []\n"
     ]
    },
    {
     "ename": "error",
     "evalue": "OpenCV(4.8.0) D:\\a\\opencv-python\\opencv-python\\opencv\\modules\\imgproc\\src\\resize.cpp:4062: error: (-215:Assertion failed) !ssize.empty() in function 'cv::resize'\n",
     "output_type": "error",
     "traceback": [
      "\u001b[1;31m---------------------------------------------------------------------------\u001b[0m",
      "\u001b[1;31merror\u001b[0m                                     Traceback (most recent call last)",
      "Cell \u001b[1;32mIn[71], line 10\u001b[0m\n\u001b[0;32m      7\u001b[0m \u001b[39mprint\u001b[39m(\u001b[39m\"\u001b[39m\u001b[39mActive buttons\u001b[39m\u001b[39m\"\u001b[39m, active_buttons)\n\u001b[0;32m      9\u001b[0m \u001b[39m# Object Detection\u001b[39;00m\n\u001b[1;32m---> 10\u001b[0m (class_ids, scores, bboxes) \u001b[39m=\u001b[39m model\u001b[39m.\u001b[39mdetect(frame, confThreshold\u001b[39m=\u001b[39m\u001b[39m0.3\u001b[39m, nmsThreshold\u001b[39m=\u001b[39m\u001b[39m.4\u001b[39m)\n\u001b[0;32m     11\u001b[0m \u001b[39mfor\u001b[39;00m class_id, score, bbox \u001b[39min\u001b[39;00m \u001b[39mzip\u001b[39m(class_ids, scores, bboxes):\n\u001b[0;32m     12\u001b[0m     (x, y, w, h) \u001b[39m=\u001b[39m bbox\n",
      "\u001b[1;31merror\u001b[0m: OpenCV(4.8.0) D:\\a\\opencv-python\\opencv-python\\opencv\\modules\\imgproc\\src\\resize.cpp:4062: error: (-215:Assertion failed) !ssize.empty() in function 'cv::resize'\n"
     ]
    }
   ],
   "source": [
    "while True:\n",
    "    # Get frames\n",
    "    ret, frame = cap.read()\n",
    "\n",
    "    # Get active buttons list\n",
    "    active_buttons = button.active_buttons_list()\n",
    "    print(\"Active buttons\", active_buttons)\n",
    "\n",
    "    # Object Detection\n",
    "    (class_ids, scores, bboxes) = model.detect(frame, confThreshold=0.3, nmsThreshold=.4)\n",
    "    for class_id, score, bbox in zip(class_ids, scores, bboxes):\n",
    "        (x, y, w, h) = bbox\n",
    "        class_name = classes[class_id]\n",
    "        color = colors[class_id]\n",
    "\n",
    "        if class_name in active_buttons:\n",
    "            cv2.putText(frame, class_name, (x, y - 10), cv2.FONT_HERSHEY_PLAIN, 3, color, 2)\n",
    "            cv2.rectangle(frame, (x, y), (x + w, y + h), color, 3)\n",
    "\n",
    "    print(\"class_id\",class_ids)\n",
    "    print(\"scores\",scores)\n",
    "    print(\"bboxes\",bboxes)\n",
    "\n",
    "    # Display buttons\n",
    "    button.display_buttons(frame)\n",
    "\n",
    "    cv2.imshow(\"Frame\", frame)\n",
    "    key = cv2.waitKey(1)\n",
    "    if key == 27:\n",
    "        break"
   ]
  },
  {
   "cell_type": "code",
   "execution_count": null,
   "metadata": {},
   "outputs": [],
   "source": [
    "cap.release()\n",
    "cv2.destroyAllWindows()\n"
   ]
  }
 ],
 "metadata": {
  "kernelspec": {
   "display_name": "base",
   "language": "python",
   "name": "python3"
  },
  "language_info": {
   "codemirror_mode": {
    "name": "ipython",
    "version": 3
   },
   "file_extension": ".py",
   "mimetype": "text/x-python",
   "name": "python",
   "nbconvert_exporter": "python",
   "pygments_lexer": "ipython3",
   "version": "3.11.3"
  },
  "orig_nbformat": 4
 },
 "nbformat": 4,
 "nbformat_minor": 2
}
